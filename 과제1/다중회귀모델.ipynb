{
 "cells": [
  {
   "cell_type": "code",
   "execution_count": 3,
   "metadata": {},
   "outputs": [
    {
     "name": "stdout",
     "output_type": "stream",
     "text": [
      "   Id                                          Model  Price  Age_08_04     KM  \\\n",
      "0   1  TOYOTA Corolla 2.0 D4D HATCHB TERRA 2/3-Doors  13500         23  46986   \n",
      "1   2  TOYOTA Corolla 2.0 D4D HATCHB TERRA 2/3-Doors  13750         23  72937   \n",
      "2   3  TOYOTA Corolla 2.0 D4D HATCHB TERRA 2/3-Doors  13950         24  41711   \n",
      "3   4  TOYOTA Corolla 2.0 D4D HATCHB TERRA 2/3-Doors  14950         26  48000   \n",
      "4   5    TOYOTA Corolla 2.0 D4D HATCHB SOL 2/3-Doors  13750         30  38500   \n",
      "\n",
      "   HP    CC  Doors  Cylinders  Quarterly_Tax  ...  Powered_Windows  \\\n",
      "0  90  2000      3          4            210  ...                1   \n",
      "1  90  2000      3          4            210  ...                0   \n",
      "2  90  2000      3          4            210  ...                0   \n",
      "3  90  2000      3          4            210  ...                0   \n",
      "4  90  2000      3          4            210  ...                1   \n",
      "\n",
      "   Power_Steering  Radio  Mistlamps  Sport_Model  Backseat_Divider  \\\n",
      "0               1      0          0            0                 1   \n",
      "1               1      0          0            0                 1   \n",
      "2               1      0          0            0                 1   \n",
      "3               1      0          0            0                 1   \n",
      "4               1      0          1            0                 1   \n",
      "\n",
      "   Metallic_Rim  Radio_cassette  Parking_Assistant  Tow_Bar  \n",
      "0             0               0                  0        0  \n",
      "1             0               0                  0        0  \n",
      "2             0               0                  0        0  \n",
      "3             0               0                  0        0  \n",
      "4             0               0                  0        0  \n",
      "\n",
      "[5 rows x 29 columns]\n",
      "<class 'pandas.core.frame.DataFrame'>\n",
      "RangeIndex: 1436 entries, 0 to 1435\n",
      "Data columns (total 29 columns):\n",
      " #   Column             Non-Null Count  Dtype \n",
      "---  ------             --------------  ----- \n",
      " 0   Id                 1436 non-null   int64 \n",
      " 1   Model              1436 non-null   object\n",
      " 2   Price              1436 non-null   int64 \n",
      " 3   Age_08_04          1436 non-null   int64 \n",
      " 4   KM                 1436 non-null   int64 \n",
      " 5   HP                 1436 non-null   int64 \n",
      " 6   CC                 1436 non-null   int64 \n",
      " 7   Doors              1436 non-null   int64 \n",
      " 8   Cylinders          1436 non-null   int64 \n",
      " 9   Quarterly_Tax      1436 non-null   int64 \n",
      " 10  Weight             1436 non-null   int64 \n",
      " 11  ABS                1436 non-null   int64 \n",
      " 12  Airbag_1           1436 non-null   int64 \n",
      " 13  Airbag_2           1436 non-null   int64 \n",
      " 14  Airco              1436 non-null   int64 \n",
      " 15  Automatic_airco    1436 non-null   int64 \n",
      " 16  Boardcomputer      1436 non-null   int64 \n",
      " 17  CD_Player          1436 non-null   int64 \n",
      " 18  Central_Lock       1436 non-null   int64 \n",
      " 19  Powered_Windows    1436 non-null   int64 \n",
      " 20  Power_Steering     1436 non-null   int64 \n",
      " 21  Radio              1436 non-null   int64 \n",
      " 22  Mistlamps          1436 non-null   int64 \n",
      " 23  Sport_Model        1436 non-null   int64 \n",
      " 24  Backseat_Divider   1436 non-null   int64 \n",
      " 25  Metallic_Rim       1436 non-null   int64 \n",
      " 26  Radio_cassette     1436 non-null   int64 \n",
      " 27  Parking_Assistant  1436 non-null   int64 \n",
      " 28  Tow_Bar            1436 non-null   int64 \n",
      "dtypes: int64(28), object(1)\n",
      "memory usage: 325.5+ KB\n",
      "None\n",
      "Index(['Id', 'Model', 'Price', 'Age_08_04', 'KM', 'HP', 'CC', 'Doors',\n",
      "       'Cylinders', 'Quarterly_Tax', 'Weight', 'ABS', 'Airbag_1', 'Airbag_2',\n",
      "       'Airco', 'Automatic_airco', 'Boardcomputer', 'CD_Player',\n",
      "       'Central_Lock', 'Powered_Windows', 'Power_Steering', 'Radio',\n",
      "       'Mistlamps', 'Sport_Model', 'Backseat_Divider', 'Metallic_Rim',\n",
      "       'Radio_cassette', 'Parking_Assistant', 'Tow_Bar'],\n",
      "      dtype='object')\n"
     ]
    }
   ],
   "source": [
    "import pandas as pd\n",
    "\n",
    "# CSV 파일 불러오기\n",
    "df = pd.read_csv(\"ToyotaCorolla.csv\", encoding=\"utf-8\")\n",
    "\n",
    "# 데이터 확인\n",
    "print(df.head())\n",
    "print(df.info())\n",
    "\n"
   ]
  },
  {
   "cell_type": "code",
   "execution_count": 4,
   "metadata": {},
   "outputs": [
    {
     "name": "stdout",
     "output_type": "stream",
     "text": [
      "Index(['Id', 'Model', 'Price', 'Age_08_04', 'KM', 'HP', 'CC', 'Doors',\n",
      "       'Cylinders', 'Quarterly_Tax', 'Weight', 'ABS', 'Airbag_1', 'Airbag_2',\n",
      "       'Airco', 'Automatic_airco', 'Boardcomputer', 'CD_Player',\n",
      "       'Central_Lock', 'Powered_Windows', 'Power_Steering', 'Radio',\n",
      "       'Mistlamps', 'Sport_Model', 'Backseat_Divider', 'Metallic_Rim',\n",
      "       'Radio_cassette', 'Parking_Assistant', 'Tow_Bar'],\n",
      "      dtype='object')\n"
     ]
    }
   ],
   "source": [
    "# 데이터 열 확인\n",
    "print(df.columns)"
   ]
  },
  {
   "cell_type": "code",
   "execution_count": 8,
   "metadata": {},
   "outputs": [
    {
     "ename": "KeyError",
     "evalue": "\"['Id', 'Model'] not found in axis\"",
     "output_type": "error",
     "traceback": [
      "\u001b[1;31m---------------------------------------------------------------------------\u001b[0m",
      "\u001b[1;31mKeyError\u001b[0m                                  Traceback (most recent call last)",
      "Cell \u001b[1;32mIn[8], line 5\u001b[0m\n\u001b[0;32m      1\u001b[0m \u001b[38;5;28;01mimport\u001b[39;00m \u001b[38;5;21;01mstatsmodels\u001b[39;00m\u001b[38;5;21;01m.\u001b[39;00m\u001b[38;5;21;01mapi\u001b[39;00m \u001b[38;5;28;01mas\u001b[39;00m \u001b[38;5;21;01msm\u001b[39;00m\n\u001b[0;32m      4\u001b[0m \u001b[38;5;66;03m# 사용하지 않을 열 삭제 (Id, Model 등 비필요한 열)\u001b[39;00m\n\u001b[1;32m----> 5\u001b[0m df \u001b[38;5;241m=\u001b[39m df\u001b[38;5;241m.\u001b[39mdrop(columns\u001b[38;5;241m=\u001b[39m[\u001b[38;5;124m'\u001b[39m\u001b[38;5;124mId\u001b[39m\u001b[38;5;124m'\u001b[39m, \u001b[38;5;124m'\u001b[39m\u001b[38;5;124mModel\u001b[39m\u001b[38;5;124m'\u001b[39m])\n\u001b[0;32m      7\u001b[0m \u001b[38;5;66;03m# 결측값 확인 및 제거 (필요시)\u001b[39;00m\n\u001b[0;32m      8\u001b[0m df \u001b[38;5;241m=\u001b[39m df\u001b[38;5;241m.\u001b[39mdropna()\n",
      "File \u001b[1;32mc:\\Users\\SDS\\anaconda3\\Lib\\site-packages\\pandas\\core\\frame.py:5258\u001b[0m, in \u001b[0;36mDataFrame.drop\u001b[1;34m(self, labels, axis, index, columns, level, inplace, errors)\u001b[0m\n\u001b[0;32m   5110\u001b[0m \u001b[38;5;28;01mdef\u001b[39;00m \u001b[38;5;21mdrop\u001b[39m(\n\u001b[0;32m   5111\u001b[0m     \u001b[38;5;28mself\u001b[39m,\n\u001b[0;32m   5112\u001b[0m     labels: IndexLabel \u001b[38;5;241m=\u001b[39m \u001b[38;5;28;01mNone\u001b[39;00m,\n\u001b[1;32m   (...)\u001b[0m\n\u001b[0;32m   5119\u001b[0m     errors: IgnoreRaise \u001b[38;5;241m=\u001b[39m \u001b[38;5;124m\"\u001b[39m\u001b[38;5;124mraise\u001b[39m\u001b[38;5;124m\"\u001b[39m,\n\u001b[0;32m   5120\u001b[0m ) \u001b[38;5;241m-\u001b[39m\u001b[38;5;241m>\u001b[39m DataFrame \u001b[38;5;241m|\u001b[39m \u001b[38;5;28;01mNone\u001b[39;00m:\n\u001b[0;32m   5121\u001b[0m \u001b[38;5;250m    \u001b[39m\u001b[38;5;124;03m\"\"\"\u001b[39;00m\n\u001b[0;32m   5122\u001b[0m \u001b[38;5;124;03m    Drop specified labels from rows or columns.\u001b[39;00m\n\u001b[0;32m   5123\u001b[0m \n\u001b[1;32m   (...)\u001b[0m\n\u001b[0;32m   5256\u001b[0m \u001b[38;5;124;03m            weight  1.0     0.8\u001b[39;00m\n\u001b[0;32m   5257\u001b[0m \u001b[38;5;124;03m    \"\"\"\u001b[39;00m\n\u001b[1;32m-> 5258\u001b[0m     \u001b[38;5;28;01mreturn\u001b[39;00m \u001b[38;5;28msuper\u001b[39m()\u001b[38;5;241m.\u001b[39mdrop(\n\u001b[0;32m   5259\u001b[0m         labels\u001b[38;5;241m=\u001b[39mlabels,\n\u001b[0;32m   5260\u001b[0m         axis\u001b[38;5;241m=\u001b[39maxis,\n\u001b[0;32m   5261\u001b[0m         index\u001b[38;5;241m=\u001b[39mindex,\n\u001b[0;32m   5262\u001b[0m         columns\u001b[38;5;241m=\u001b[39mcolumns,\n\u001b[0;32m   5263\u001b[0m         level\u001b[38;5;241m=\u001b[39mlevel,\n\u001b[0;32m   5264\u001b[0m         inplace\u001b[38;5;241m=\u001b[39minplace,\n\u001b[0;32m   5265\u001b[0m         errors\u001b[38;5;241m=\u001b[39merrors,\n\u001b[0;32m   5266\u001b[0m     )\n",
      "File \u001b[1;32mc:\\Users\\SDS\\anaconda3\\Lib\\site-packages\\pandas\\core\\generic.py:4549\u001b[0m, in \u001b[0;36mNDFrame.drop\u001b[1;34m(self, labels, axis, index, columns, level, inplace, errors)\u001b[0m\n\u001b[0;32m   4547\u001b[0m \u001b[38;5;28;01mfor\u001b[39;00m axis, labels \u001b[38;5;129;01min\u001b[39;00m axes\u001b[38;5;241m.\u001b[39mitems():\n\u001b[0;32m   4548\u001b[0m     \u001b[38;5;28;01mif\u001b[39;00m labels \u001b[38;5;129;01mis\u001b[39;00m \u001b[38;5;129;01mnot\u001b[39;00m \u001b[38;5;28;01mNone\u001b[39;00m:\n\u001b[1;32m-> 4549\u001b[0m         obj \u001b[38;5;241m=\u001b[39m obj\u001b[38;5;241m.\u001b[39m_drop_axis(labels, axis, level\u001b[38;5;241m=\u001b[39mlevel, errors\u001b[38;5;241m=\u001b[39merrors)\n\u001b[0;32m   4551\u001b[0m \u001b[38;5;28;01mif\u001b[39;00m inplace:\n\u001b[0;32m   4552\u001b[0m     \u001b[38;5;28mself\u001b[39m\u001b[38;5;241m.\u001b[39m_update_inplace(obj)\n",
      "File \u001b[1;32mc:\\Users\\SDS\\anaconda3\\Lib\\site-packages\\pandas\\core\\generic.py:4591\u001b[0m, in \u001b[0;36mNDFrame._drop_axis\u001b[1;34m(self, labels, axis, level, errors, only_slice)\u001b[0m\n\u001b[0;32m   4589\u001b[0m         new_axis \u001b[38;5;241m=\u001b[39m axis\u001b[38;5;241m.\u001b[39mdrop(labels, level\u001b[38;5;241m=\u001b[39mlevel, errors\u001b[38;5;241m=\u001b[39merrors)\n\u001b[0;32m   4590\u001b[0m     \u001b[38;5;28;01melse\u001b[39;00m:\n\u001b[1;32m-> 4591\u001b[0m         new_axis \u001b[38;5;241m=\u001b[39m axis\u001b[38;5;241m.\u001b[39mdrop(labels, errors\u001b[38;5;241m=\u001b[39merrors)\n\u001b[0;32m   4592\u001b[0m     indexer \u001b[38;5;241m=\u001b[39m axis\u001b[38;5;241m.\u001b[39mget_indexer(new_axis)\n\u001b[0;32m   4594\u001b[0m \u001b[38;5;66;03m# Case for non-unique axis\u001b[39;00m\n\u001b[0;32m   4595\u001b[0m \u001b[38;5;28;01melse\u001b[39;00m:\n",
      "File \u001b[1;32mc:\\Users\\SDS\\anaconda3\\Lib\\site-packages\\pandas\\core\\indexes\\base.py:6699\u001b[0m, in \u001b[0;36mIndex.drop\u001b[1;34m(self, labels, errors)\u001b[0m\n\u001b[0;32m   6697\u001b[0m \u001b[38;5;28;01mif\u001b[39;00m mask\u001b[38;5;241m.\u001b[39many():\n\u001b[0;32m   6698\u001b[0m     \u001b[38;5;28;01mif\u001b[39;00m errors \u001b[38;5;241m!=\u001b[39m \u001b[38;5;124m\"\u001b[39m\u001b[38;5;124mignore\u001b[39m\u001b[38;5;124m\"\u001b[39m:\n\u001b[1;32m-> 6699\u001b[0m         \u001b[38;5;28;01mraise\u001b[39;00m \u001b[38;5;167;01mKeyError\u001b[39;00m(\u001b[38;5;124mf\u001b[39m\u001b[38;5;124m\"\u001b[39m\u001b[38;5;132;01m{\u001b[39;00m\u001b[38;5;28mlist\u001b[39m(labels[mask])\u001b[38;5;132;01m}\u001b[39;00m\u001b[38;5;124m not found in axis\u001b[39m\u001b[38;5;124m\"\u001b[39m)\n\u001b[0;32m   6700\u001b[0m     indexer \u001b[38;5;241m=\u001b[39m indexer[\u001b[38;5;241m~\u001b[39mmask]\n\u001b[0;32m   6701\u001b[0m \u001b[38;5;28;01mreturn\u001b[39;00m \u001b[38;5;28mself\u001b[39m\u001b[38;5;241m.\u001b[39mdelete(indexer)\n",
      "\u001b[1;31mKeyError\u001b[0m: \"['Id', 'Model'] not found in axis\""
     ]
    }
   ],
   "source": [
    "import statsmodels.api as sm\n",
    "\n",
    "\n",
    "# 사용하지 않을 열 삭제 (Id, Model 등 비필요한 열)\n",
    "df = df.drop(columns=['Id', 'Model'])\n",
    "\n",
    "# 결측값 확인 및 제거 (필요시)\n",
    "df = df.dropna()\n"
   ]
  },
  {
   "cell_type": "code",
   "execution_count": 10,
   "metadata": {},
   "outputs": [
    {
     "name": "stdout",
     "output_type": "stream",
     "text": [
      "                            OLS Regression Results                            \n",
      "==============================================================================\n",
      "Dep. Variable:                  Price   R-squared:                       0.893\n",
      "Model:                            OLS   Adj. R-squared:                  0.891\n",
      "Method:                 Least Squares   F-statistic:                     469.5\n",
      "Date:                Sun, 23 Mar 2025   Prob (F-statistic):               0.00\n",
      "Time:                        22:03:17   Log-Likelihood:                -12204.\n",
      "No. Observations:                1436   AIC:                         2.446e+04\n",
      "Df Residuals:                    1410   BIC:                         2.460e+04\n",
      "Df Model:                          25                                         \n",
      "Covariance Type:            nonrobust                                         \n",
      "=====================================================================================\n",
      "                        coef    std err          t      P>|t|      [0.025      0.975]\n",
      "-------------------------------------------------------------------------------------\n",
      "const               254.3040     64.274      3.957      0.000     128.221     380.387\n",
      "Age_08_04          -115.0490      3.563    -32.289      0.000    -122.039    -108.059\n",
      "KM                   -0.0199      0.001    -17.464      0.000      -0.022      -0.018\n",
      "HP                   26.5542      2.602     10.206      0.000      21.450      31.658\n",
      "CC                   -0.1882      0.082     -2.303      0.021      -0.349      -0.028\n",
      "Doors                79.8727     36.496      2.189      0.029       8.281     151.465\n",
      "Cylinders          1017.2161    257.096      3.957      0.000     512.885    1521.547\n",
      "Quarterly_Tax         7.9157      1.265      6.260      0.000       5.435      10.396\n",
      "Weight                9.8336      1.054      9.333      0.000       7.767      11.900\n",
      "ABS                -273.5901    120.745     -2.266      0.024    -510.448     -36.732\n",
      "Airbag_1            241.8083    235.771      1.026      0.305    -220.692     704.309\n",
      "Airbag_2           -133.1602    122.644     -1.086      0.278    -373.745     107.425\n",
      "Airco               144.7446     85.628      1.690      0.091     -23.227     312.717\n",
      "Automatic_airco    2533.6516    178.332     14.208      0.000    2183.827    2883.476\n",
      "Boardcomputer      -208.2289    111.295     -1.871      0.062    -426.550      10.092\n",
      "CD_Player           286.8116     93.278      3.075      0.002     103.833     469.790\n",
      "Central_Lock        -42.3714    137.066     -0.309      0.757    -311.247     226.504\n",
      "Powered_Windows     382.7535    136.885      2.796      0.005     114.233     651.274\n",
      "Power_Steering      -86.9125    266.238     -0.326      0.744    -609.178     435.354\n",
      "Radio               704.6050    705.638      0.999      0.318    -679.608    2088.818\n",
      "Mistlamps            44.9449    103.152      0.436      0.663    -157.402     247.292\n",
      "Sport_Model         342.9406     82.068      4.179      0.000     181.953     503.929\n",
      "Backseat_Divider   -103.8616    109.395     -0.949      0.343    -318.456     110.732\n",
      "Metallic_Rim        143.7196     89.016      1.615      0.107     -30.898     318.338\n",
      "Radio_cassette     -732.2460    706.108     -1.037      0.300   -2117.380     652.888\n",
      "Parking_Assistant  -606.2295    604.720     -1.002      0.316   -1792.476     580.017\n",
      "Tow_Bar            -172.9056     74.710     -2.314      0.021    -319.461     -26.351\n",
      "==============================================================================\n",
      "Omnibus:                      101.410   Durbin-Watson:                   1.740\n",
      "Prob(Omnibus):                  0.000   Jarque-Bera (JB):              484.247\n",
      "Skew:                          -0.045   Prob(JB):                    7.03e-106\n",
      "Kurtosis:                       5.843   Cond. No.                     8.92e+16\n",
      "==============================================================================\n",
      "\n",
      "Notes:\n",
      "[1] Standard Errors assume that the covariance matrix of the errors is correctly specified.\n",
      "[2] The smallest eigenvalue is 1.1e-21. This might indicate that there are\n",
      "strong multicollinearity problems or that the design matrix is singular.\n"
     ]
    }
   ],
   "source": [
    "\n",
    "# 독립변수(X)와 종속변수(y) 정의\n",
    "X = df.drop(columns=['Price'])  # 'Price'를 제외한 나머지 변수\n",
    "y = df['Price']  # 타겟 변수\n",
    "\n",
    "# 상수항 추가 (절편)\n",
    "X = sm.add_constant(X, has_constant = \"add\")\n",
    "\n",
    "# 다중회귀모델 구축\n",
    "model = sm.OLS(y, X).fit()\n",
    "\n",
    "# 결과 출력\n",
    "print(model.summary())\n",
    "\n"
   ]
  },
  {
   "cell_type": "code",
   "execution_count": 11,
   "metadata": {},
   "outputs": [
    {
     "name": "stdout",
     "output_type": "stream",
     "text": [
      "P-value가 0.05 이상인 변수들:\n",
      "Airbag_1             0.305254\n",
      "Airbag_2             0.277778\n",
      "Airco                0.091175\n",
      "Boardcomputer        0.061557\n",
      "Central_Lock         0.757268\n",
      "Power_Steering       0.744135\n",
      "Radio                0.318191\n",
      "Mistlamps            0.663109\n",
      "Backseat_Divider     0.342570\n",
      "Metallic_Rim         0.106635\n",
      "Radio_cassette       0.299905\n",
      "Parking_Assistant    0.316276\n",
      "dtype: float64\n"
     ]
    }
   ],
   "source": [
    "# P-value가 0.05 이상인 변수 필터링\n",
    "insignificant_vars = model.pvalues[model.pvalues >= 0.05]\n",
    "\n",
    "# 결과 출력\n",
    "print(\"P-value가 0.05 이상인 변수들:\")\n",
    "print(insignificant_vars)"
   ]
  },
  {
   "cell_type": "code",
   "execution_count": 12,
   "metadata": {},
   "outputs": [
    {
     "name": "stdout",
     "output_type": "stream",
     "text": [
      "Testing set의 예측 정확도 (R²): 0.8902\n"
     ]
    }
   ],
   "source": [
    "from sklearn.model_selection import train_test_split\n",
    "from sklearn.metrics import r2_score\n",
    "# 데이터를 80% Train / 20% Test로 분할\n",
    "X_train, X_test, y_train, y_test = train_test_split(X, y, test_size=0.2, random_state=42)\n",
    "\n",
    "# 회귀 모델 적합 (Training set 사용)\n",
    "model = sm.OLS(y_train, X_train).fit()\n",
    "\n",
    "# Testing set에서 예측값 구하기\n",
    "y_pred = model.predict(X_test)\n",
    "\n",
    "# 예측 정확도(R²) 계산\n",
    "r2 = r2_score(y_test, y_pred)\n",
    "\n",
    "print(f\"Testing set의 예측 정확도 (R²): {r2:.4f}\")"
   ]
  },
  {
   "cell_type": "code",
   "execution_count": 14,
   "metadata": {},
   "outputs": [
    {
     "name": "stdout",
     "output_type": "stream",
     "text": [
      "변수 제거 후 모델 성능 (R²): 0.8929\n",
      "원래 모델 성능 (R²): 0.8902\n",
      "변수 제거 후 모델 성능이 향상되었습니다.\n"
     ]
    }
   ],
   "source": [
    "# 2. P-value가 0.05 이상인 변수들 제거\n",
    "X_train_filtered = X_train.drop(columns=insignificant_vars.index)\n",
    "X_test_filtered = X_test.drop(columns=insignificant_vars.index)\n",
    "\n",
    "# 3. 모델 훈련 (변수 제거 후)\n",
    "model_filtered = sm.OLS(y_train, X_train_filtered).fit()\n",
    "\n",
    "# 4. 모델 평가 (R² 값 계산)\n",
    "y_pred_filtered = model_filtered.predict(X_test_filtered)\n",
    "r2_filtered = r2_score(y_test, y_pred_filtered)\n",
    "print(f\"변수 제거 후 모델 성능 (R²): {r2_filtered:.4f}\")\n",
    "\n",
    "# 5. 원래 모델 평가 (R² 값 계산)\n",
    "print(f\"원래 모델 성능 (R²): {r2:.4f}\")\n",
    "\n",
    "# 6. 성능 차이 확인\n",
    "if r2_filtered > r2:\n",
    "    print(\"변수 제거 후 모델 성능이 향상되었습니다.\")\n",
    "else:\n",
    "    print(\"변수 제거 후 모델 성능이 저하되었습니다.\")"
   ]
  }
 ],
 "metadata": {
  "kernelspec": {
   "display_name": "base",
   "language": "python",
   "name": "python3"
  },
  "language_info": {
   "codemirror_mode": {
    "name": "ipython",
    "version": 3
   },
   "file_extension": ".py",
   "mimetype": "text/x-python",
   "name": "python",
   "nbconvert_exporter": "python",
   "pygments_lexer": "ipython3",
   "version": "3.11.5"
  }
 },
 "nbformat": 4,
 "nbformat_minor": 2
}
